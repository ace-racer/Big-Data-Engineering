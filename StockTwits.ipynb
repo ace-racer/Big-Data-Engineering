{
 "cells": [
  {
   "cell_type": "code",
   "execution_count": 2,
   "metadata": {},
   "outputs": [],
   "source": [
    "import numpy as np\n",
    "import pandas as pd"
   ]
  },
  {
   "cell_type": "code",
   "execution_count": 14,
   "metadata": {},
   "outputs": [],
   "source": [
    "import urllib.request, json \n",
    "with urllib.request.urlopen(\"https://api.stocktwits.com/api/2/streams/symbol/A.json\") as url:\n",
    "    data = json.loads(url.read().decode())"
   ]
  },
  {
   "cell_type": "code",
   "execution_count": 15,
   "metadata": {},
   "outputs": [
    {
     "data": {
      "text/plain": [
       "30"
      ]
     },
     "execution_count": 15,
     "metadata": {},
     "output_type": "execute_result"
    }
   ],
   "source": [
    "# Number of messages (how to get more data?)\n",
    "len(data[\"messages\"])"
   ]
  },
  {
   "cell_type": "code",
   "execution_count": 16,
   "metadata": {},
   "outputs": [
    {
     "data": {
      "text/plain": [
       "'AH Closing Price &amp;/or Vol Leaders (a/o8pmEST): $AWSM $NCTY $HUYA $YRIV $CTRP $ZKIN $YY $GME $XON $AVP $WB $A'"
      ]
     },
     "execution_count": 16,
     "metadata": {},
     "output_type": "execute_result"
    }
   ],
   "source": [
    "# First message\n",
    "data[\"messages\"][0][\"body\"]"
   ]
  },
  {
   "cell_type": "code",
   "execution_count": 17,
   "metadata": {},
   "outputs": [
    {
     "data": {
      "text/plain": [
       "'2019-03-05T01:19:28Z'"
      ]
     },
     "execution_count": 17,
     "metadata": {},
     "output_type": "execute_result"
    }
   ],
   "source": [
    "# Time of first message\n",
    "data[\"messages\"][0][\"created_at\"]"
   ]
  },
  {
   "cell_type": "code",
   "execution_count": 18,
   "metadata": {},
   "outputs": [],
   "source": [
    "Twits = []\n",
    "Dates = []\n",
    "\n",
    "Number_of_messages = len(data[\"messages\"])\n",
    "\n",
    "for i in range (0,Number_of_messages):\n",
    "    Twit = data[\"messages\"][i][\"body\"]\n",
    "    Twits.append(Twit)\n",
    "    \n",
    "    Date = data[\"messages\"][i][\"created_at\"]\n",
    "    Dates.append(Date)"
   ]
  },
  {
   "cell_type": "code",
   "execution_count": 19,
   "metadata": {},
   "outputs": [
    {
     "data": {
      "text/html": [
       "<div>\n",
       "<style scoped>\n",
       "    .dataframe tbody tr th:only-of-type {\n",
       "        vertical-align: middle;\n",
       "    }\n",
       "\n",
       "    .dataframe tbody tr th {\n",
       "        vertical-align: top;\n",
       "    }\n",
       "\n",
       "    .dataframe thead th {\n",
       "        text-align: right;\n",
       "    }\n",
       "</style>\n",
       "<table border=\"1\" class=\"dataframe\">\n",
       "  <thead>\n",
       "    <tr style=\"text-align: right;\">\n",
       "      <th></th>\n",
       "      <th>Dates</th>\n",
       "      <th>Twits</th>\n",
       "    </tr>\n",
       "  </thead>\n",
       "  <tbody>\n",
       "    <tr>\n",
       "      <th>0</th>\n",
       "      <td>2019-03-05T01:19:28Z</td>\n",
       "      <td>AH Closing Price &amp;amp;/or Vol Leaders (a/o8pmE...</td>\n",
       "    </tr>\n",
       "    <tr>\n",
       "      <th>1</th>\n",
       "      <td>2019-03-04T23:00:49Z</td>\n",
       "      <td>#Update(3)  $A Mar-15 80 Calls Down -27%. sinc...</td>\n",
       "    </tr>\n",
       "    <tr>\n",
       "      <th>2</th>\n",
       "      <td>2019-03-04T16:48:21Z</td>\n",
       "      <td>Estimize revenue expectations are 1.05% lower ...</td>\n",
       "    </tr>\n",
       "    <tr>\n",
       "      <th>3</th>\n",
       "      <td>2019-03-04T16:26:55Z</td>\n",
       "      <td>$SPY $BA $IRBT $INTU $WDAY $VMW $NFLX $V $AXP ...</td>\n",
       "    </tr>\n",
       "    <tr>\n",
       "      <th>4</th>\n",
       "      <td>2019-03-01T14:40:00Z</td>\n",
       "      <td>New 52 Week High today: $W $XLNX $OLED $FLT $S...</td>\n",
       "    </tr>\n",
       "    <tr>\n",
       "      <th>5</th>\n",
       "      <td>2019-02-28T23:11:26Z</td>\n",
       "      <td>AlarmCom Hldg Inc updates FY 2019 guidance to ...</td>\n",
       "    </tr>\n",
       "    <tr>\n",
       "      <th>6</th>\n",
       "      <td>2019-02-28T17:48:29Z</td>\n",
       "      <td>Estimize EPS expectations are 3.56% higher tha...</td>\n",
       "    </tr>\n",
       "    <tr>\n",
       "      <th>7</th>\n",
       "      <td>2019-02-28T16:04:33Z</td>\n",
       "      <td>$A filed press release on February 28, 11:00:0...</td>\n",
       "    </tr>\n",
       "    <tr>\n",
       "      <th>8</th>\n",
       "      <td>2019-02-28T14:45:04Z</td>\n",
       "      <td>$A In the last six months 20 setups peaked abo...</td>\n",
       "    </tr>\n",
       "    <tr>\n",
       "      <th>9</th>\n",
       "      <td>2019-02-27T17:45:41Z</td>\n",
       "      <td>$A estimates distribution - here’s what 7 Esti...</td>\n",
       "    </tr>\n",
       "    <tr>\n",
       "      <th>10</th>\n",
       "      <td>2019-02-27T13:52:44Z</td>\n",
       "      <td>$A 15-Mar-19 Straddle Implies a ±3.5% move. Fe...</td>\n",
       "    </tr>\n",
       "    <tr>\n",
       "      <th>11</th>\n",
       "      <td>2019-02-26T23:19:44Z</td>\n",
       "      <td>$A Agilent Technologies (A, $79.34) soars +15%...</td>\n",
       "    </tr>\n",
       "    <tr>\n",
       "      <th>12</th>\n",
       "      <td>2019-02-26T23:08:42Z</td>\n",
       "      <td>ACADIA Pharmaceuticals Inc. updates FY 2019 gu...</td>\n",
       "    </tr>\n",
       "    <tr>\n",
       "      <th>13</th>\n",
       "      <td>2019-02-26T17:42:27Z</td>\n",
       "      <td>Here’s what 7 Estimize analysts believe $A wil...</td>\n",
       "    </tr>\n",
       "    <tr>\n",
       "      <th>14</th>\n",
       "      <td>2019-02-26T00:41:17Z</td>\n",
       "      <td>Agilent Technologies VP Mark Doak Sells $1,280...</td>\n",
       "    </tr>\n",
       "    <tr>\n",
       "      <th>15</th>\n",
       "      <td>2019-02-25T21:44:55Z</td>\n",
       "      <td>Agilent Technologies&amp;#39;s Sr. Vice President ...</td>\n",
       "    </tr>\n",
       "    <tr>\n",
       "      <th>16</th>\n",
       "      <td>2019-02-25T21:23:54Z</td>\n",
       "      <td>$A 3.4m ago: Insider Doak Mark (Sr. Vice Presi...</td>\n",
       "    </tr>\n",
       "    <tr>\n",
       "      <th>17</th>\n",
       "      <td>2019-02-25T21:23:36Z</td>\n",
       "      <td>$A new insider selling: 16421 shares. http://i...</td>\n",
       "    </tr>\n",
       "    <tr>\n",
       "      <th>18</th>\n",
       "      <td>2019-02-25T18:25:59Z</td>\n",
       "      <td>$A  Agilent Technologies Inc (NYSE:A) had its ...</td>\n",
       "    </tr>\n",
       "    <tr>\n",
       "      <th>19</th>\n",
       "      <td>2019-02-25T17:56:30Z</td>\n",
       "      <td>$A been at ATH for too long now. shes gotta le...</td>\n",
       "    </tr>\n",
       "    <tr>\n",
       "      <th>20</th>\n",
       "      <td>2019-02-25T17:50:56Z</td>\n",
       "      <td>Upgrades, Downgrades, Initiations &amp;amp; More: ...</td>\n",
       "    </tr>\n",
       "    <tr>\n",
       "      <th>21</th>\n",
       "      <td>2019-02-25T17:39:33Z</td>\n",
       "      <td>Here’s what 7 Estimize analysts believe $A wil...</td>\n",
       "    </tr>\n",
       "    <tr>\n",
       "      <th>22</th>\n",
       "      <td>2019-02-25T16:41:25Z</td>\n",
       "      <td>$A In the last six months 20 setups peaked abo...</td>\n",
       "    </tr>\n",
       "    <tr>\n",
       "      <th>23</th>\n",
       "      <td>2019-02-25T16:40:23Z</td>\n",
       "      <td>#Update(1)  $A Mar-15 80 Calls Up +38%.  since...</td>\n",
       "    </tr>\n",
       "    <tr>\n",
       "      <th>24</th>\n",
       "      <td>2019-02-25T13:28:48Z</td>\n",
       "      <td>$A  Agilent Technologies Inc (NYSE:A) price ta...</td>\n",
       "    </tr>\n",
       "    <tr>\n",
       "      <th>25</th>\n",
       "      <td>2019-02-25T12:25:44Z</td>\n",
       "      <td>Agilent Technologies&amp;#39;s PT raised by Needha...</td>\n",
       "    </tr>\n",
       "    <tr>\n",
       "      <th>26</th>\n",
       "      <td>2019-02-25T07:32:57Z</td>\n",
       "      <td>Svb Leerink Lowers Agilent Technologies Q2 201...</td>\n",
       "    </tr>\n",
       "    <tr>\n",
       "      <th>27</th>\n",
       "      <td>2019-02-25T07:12:02Z</td>\n",
       "      <td>First Analysis Lowers Anika Therapeutics Q1 20...</td>\n",
       "    </tr>\n",
       "    <tr>\n",
       "      <th>28</th>\n",
       "      <td>2019-02-24T13:01:07Z</td>\n",
       "      <td>$A is currently trading near its 52 week high,...</td>\n",
       "    </tr>\n",
       "    <tr>\n",
       "      <th>29</th>\n",
       "      <td>2019-02-23T18:49:21Z</td>\n",
       "      <td>$A In the last one month, 3 Winners ( above 30...</td>\n",
       "    </tr>\n",
       "  </tbody>\n",
       "</table>\n",
       "</div>"
      ],
      "text/plain": [
       "                   Dates                                              Twits\n",
       "0   2019-03-05T01:19:28Z  AH Closing Price &amp;/or Vol Leaders (a/o8pmE...\n",
       "1   2019-03-04T23:00:49Z  #Update(3)  $A Mar-15 80 Calls Down -27%. sinc...\n",
       "2   2019-03-04T16:48:21Z  Estimize revenue expectations are 1.05% lower ...\n",
       "3   2019-03-04T16:26:55Z  $SPY $BA $IRBT $INTU $WDAY $VMW $NFLX $V $AXP ...\n",
       "4   2019-03-01T14:40:00Z  New 52 Week High today: $W $XLNX $OLED $FLT $S...\n",
       "5   2019-02-28T23:11:26Z  AlarmCom Hldg Inc updates FY 2019 guidance to ...\n",
       "6   2019-02-28T17:48:29Z  Estimize EPS expectations are 3.56% higher tha...\n",
       "7   2019-02-28T16:04:33Z  $A filed press release on February 28, 11:00:0...\n",
       "8   2019-02-28T14:45:04Z  $A In the last six months 20 setups peaked abo...\n",
       "9   2019-02-27T17:45:41Z  $A estimates distribution - here’s what 7 Esti...\n",
       "10  2019-02-27T13:52:44Z  $A 15-Mar-19 Straddle Implies a ±3.5% move. Fe...\n",
       "11  2019-02-26T23:19:44Z  $A Agilent Technologies (A, $79.34) soars +15%...\n",
       "12  2019-02-26T23:08:42Z  ACADIA Pharmaceuticals Inc. updates FY 2019 gu...\n",
       "13  2019-02-26T17:42:27Z  Here’s what 7 Estimize analysts believe $A wil...\n",
       "14  2019-02-26T00:41:17Z  Agilent Technologies VP Mark Doak Sells $1,280...\n",
       "15  2019-02-25T21:44:55Z  Agilent Technologies&#39;s Sr. Vice President ...\n",
       "16  2019-02-25T21:23:54Z  $A 3.4m ago: Insider Doak Mark (Sr. Vice Presi...\n",
       "17  2019-02-25T21:23:36Z  $A new insider selling: 16421 shares. http://i...\n",
       "18  2019-02-25T18:25:59Z  $A  Agilent Technologies Inc (NYSE:A) had its ...\n",
       "19  2019-02-25T17:56:30Z  $A been at ATH for too long now. shes gotta le...\n",
       "20  2019-02-25T17:50:56Z  Upgrades, Downgrades, Initiations &amp; More: ...\n",
       "21  2019-02-25T17:39:33Z  Here’s what 7 Estimize analysts believe $A wil...\n",
       "22  2019-02-25T16:41:25Z  $A In the last six months 20 setups peaked abo...\n",
       "23  2019-02-25T16:40:23Z  #Update(1)  $A Mar-15 80 Calls Up +38%.  since...\n",
       "24  2019-02-25T13:28:48Z  $A  Agilent Technologies Inc (NYSE:A) price ta...\n",
       "25  2019-02-25T12:25:44Z  Agilent Technologies&#39;s PT raised by Needha...\n",
       "26  2019-02-25T07:32:57Z  Svb Leerink Lowers Agilent Technologies Q2 201...\n",
       "27  2019-02-25T07:12:02Z  First Analysis Lowers Anika Therapeutics Q1 20...\n",
       "28  2019-02-24T13:01:07Z  $A is currently trading near its 52 week high,...\n",
       "29  2019-02-23T18:49:21Z  $A In the last one month, 3 Winners ( above 30..."
      ]
     },
     "execution_count": 19,
     "metadata": {},
     "output_type": "execute_result"
    }
   ],
   "source": [
    "##################################### Create the Key Info table ##########################################\n",
    "df_1 = pd.DataFrame({'Twits':Twits,\n",
    "                     'Dates':Dates})\n",
    "df_1\n",
    "\n",
    "# Need to convert to DateTime format"
   ]
  },
  {
   "cell_type": "code",
   "execution_count": 20,
   "metadata": {},
   "outputs": [],
   "source": [
    "df_1.to_csv('df_1.csv')"
   ]
  },
  {
   "cell_type": "code",
   "execution_count": null,
   "metadata": {},
   "outputs": [],
   "source": []
  }
 ],
 "metadata": {
  "kernelspec": {
   "display_name": "Python 3",
   "language": "python",
   "name": "python3"
  },
  "language_info": {
   "codemirror_mode": {
    "name": "ipython",
    "version": 3
   },
   "file_extension": ".py",
   "mimetype": "text/x-python",
   "name": "python",
   "nbconvert_exporter": "python",
   "pygments_lexer": "ipython3",
   "version": "3.6.4"
  }
 },
 "nbformat": 4,
 "nbformat_minor": 2
}
