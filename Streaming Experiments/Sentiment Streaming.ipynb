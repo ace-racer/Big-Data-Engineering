{
 "cells": [
  {
   "cell_type": "code",
   "execution_count": null,
   "metadata": {},
   "outputs": [],
   "source": [
    "# !pip install tweetfeels"
   ]
  },
  {
   "cell_type": "code",
   "execution_count": null,
   "metadata": {},
   "outputs": [],
   "source": [
    "# import nltk\n",
    "# nltk.download('vader_lexicon')"
   ]
  },
  {
   "cell_type": "code",
   "execution_count": 5,
   "metadata": {},
   "outputs": [],
   "source": [
    "from tweetfeels import TweetFeels\n",
    "from threading import Thread\n",
    "import time\n",
    "import pandas as pd\n",
    "from datetime import timedelta, datetime\n",
    "import matplotlib.pyplot as plt\n",
    "import matplotlib.dates as mdates\n",
    "%matplotlib inline"
   ]
  },
  {
   "cell_type": "code",
   "execution_count": 6,
   "metadata": {},
   "outputs": [],
   "source": [
    "go_on = True"
   ]
  },
  {
   "cell_type": "code",
   "execution_count": 7,
   "metadata": {},
   "outputs": [],
   "source": [
    "consumer_key = '**************'\n",
    "consumer_secret = '****************'\n",
    "access_token = '*******************'\n",
    "access_token_secret = '**********************'\n",
    "login = [consumer_key, consumer_secret, access_token, access_token_secret]"
   ]
  },
  {
   "cell_type": "code",
   "execution_count": 8,
   "metadata": {},
   "outputs": [],
   "source": [
    "def print_feels(seconds=10):\n",
    "    while go_on:\n",
    "        time.sleep(seconds)\n",
    "        print(f'[{time.ctime()}] Sentiment Score: {modi_feels.sentiment.value}')"
   ]
  },
  {
   "cell_type": "code",
   "execution_count": 9,
   "metadata": {},
   "outputs": [
    {
     "name": "stdout",
     "output_type": "stream",
     "text": [
      "[Mon Feb 25 22:19:26 2019] Sentiment Score: -0.0027871960087037253\n",
      "[Mon Feb 25 22:19:36 2019] Sentiment Score: -0.005137065621366475\n",
      "[Mon Feb 25 22:19:48 2019] Sentiment Score: -0.0003291572923391599\n",
      "[Mon Feb 25 22:19:58 2019] Sentiment Score: -0.0016149869713634522\n",
      "[Mon Feb 25 22:20:10 2019] Sentiment Score: -0.005310542284763782\n",
      "[Mon Feb 25 22:20:21 2019] Sentiment Score: -0.005518433717887901\n",
      "[Mon Feb 25 22:20:31 2019] Sentiment Score: -0.0019411366212546332\n",
      "[Mon Feb 25 22:20:42 2019] Sentiment Score: -0.0011253728859507452\n",
      "[Mon Feb 25 22:20:52 2019] Sentiment Score: -0.0012558489089760914\n",
      "[Mon Feb 25 22:21:03 2019] Sentiment Score: -0.004847332178698157\n",
      "[Mon Feb 25 22:21:13 2019] Sentiment Score: -0.004847332178698157\n",
      "[Mon Feb 25 22:21:23 2019] Sentiment Score: -0.00670681701436112\n",
      "[Mon Feb 25 22:21:34 2019] Sentiment Score: -0.0067126832301814664\n",
      "[Mon Feb 25 22:21:44 2019] Sentiment Score: -0.006710362053883715\n",
      "[Mon Feb 25 22:21:55 2019] Sentiment Score: -0.006474955945685239\n",
      "[Mon Feb 25 22:22:05 2019] Sentiment Score: -0.006474955945685239\n",
      "[Mon Feb 25 22:22:15 2019] Sentiment Score: -0.0022189034458473915\n",
      "[Mon Feb 25 22:22:26 2019] Sentiment Score: -0.00651518930821086\n",
      "[Mon Feb 25 22:22:36 2019] Sentiment Score: -0.00651518930821086\n",
      "[Mon Feb 25 22:22:46 2019] Sentiment Score: -0.006234307061364003\n"
     ]
    }
   ],
   "source": [
    "modi_feels = TweetFeels(login, tracking=['modi'])\n",
    "t1 = Thread(target=print_feels)\n",
    "modi_feels.start()\n",
    "t1.start()"
   ]
  },
  {
   "cell_type": "code",
   "execution_count": 11,
   "metadata": {},
   "outputs": [
    {
     "name": "stdout",
     "output_type": "stream",
     "text": [
      "[Mon Feb 25 22:23:17 2019] Sentiment Score: -0.015285468746088327\n"
     ]
    },
    {
     "data": {
      "text/plain": [
       "<matplotlib.axes._subplots.AxesSubplot at 0x7fe99401aa90>"
      ]
     },
     "execution_count": 11,
     "metadata": {},
     "output_type": "execute_result"
    },
    {
     "data": {
      "image/png": "[encoded data removed]",
      "text/plain": [
       "<Figure size 1080x360 with 2 Axes>"
      ]
     },
     "metadata": {
      "needs_background": "light"
     },
     "output_type": "display_data"
    },
    {
     "name": "stdout",
     "output_type": "stream",
     "text": [
      "[Mon Feb 25 22:23:29 2019] Sentiment Score: -0.003828876652354276\n",
      "[Mon Feb 25 22:23:39 2019] Sentiment Score: -0.005378502644392759\n",
      "[Mon Feb 25 22:23:50 2019] Sentiment Score: -0.0027733929575918742\n"
     ]
    }
   ],
   "source": [
    "data1 = {s.end: s.value for s in modi_feels.sentiments(delta_time=timedelta(minutes=15), nans=True)}\n",
    "data2 = {s.end: s.volume for s in modi_feels.sentiments(delta_time=timedelta(minutes=15), nans=True)}\n",
    "df1 = pd.DataFrame.from_dict(data1, orient='index')\n",
    "df2 = pd.DataFrame.from_dict(data2, orient='index')\n",
    "fig, axes = plt.subplots(nrows=2, ncols=1)\n",
    "fig.set_size_inches(15, 5)\n",
    "plt.subplot(211).axes.get_xaxis().set_visible(False)\n",
    "df1[0].plot(kind='line', title='Modi Sentiment')\n",
    "plt.subplot(212)\n",
    "df2[0].plot(kind='area', title='Volume')"
   ]
  },
  {
   "cell_type": "code",
   "execution_count": 13,
   "metadata": {},
   "outputs": [
    {
     "name": "stdout",
     "output_type": "stream",
     "text": [
      "[Mon Feb 25 22:24:00 2019] Sentiment Score: -0.0027733929575918742\n"
     ]
    }
   ],
   "source": [
    "modi_feels.stop()"
   ]
  },
  {
   "cell_type": "code",
   "execution_count": null,
   "metadata": {},
   "outputs": [],
   "source": []
  }
 ],
 "metadata": {
  "kernelspec": {
   "display_name": "Python 3",
   "language": "python",
   "name": "python3"
  },
  "language_info": {
   "codemirror_mode": {
    "name": "ipython",
    "version": 3
   },
   "file_extension": ".py",
   "mimetype": "text/x-python",
   "name": "python",
   "nbconvert_exporter": "python",
   "pygments_lexer": "ipython3",
   "version": "3.7.0"
  }
 },
 "nbformat": 4,
 "nbformat_minor": 2
}
